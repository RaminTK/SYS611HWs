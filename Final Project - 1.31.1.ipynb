{
  "nbformat": 4,
  "nbformat_minor": 0,
  "metadata": {
    "colab": {
      "provenance": [],
      "authorship_tag": "ABX9TyMys4sE5rIWmDnYWFbBKnDo",
      "include_colab_link": true
    },
    "kernelspec": {
      "name": "python3",
      "display_name": "Python 3"
    },
    "language_info": {
      "name": "python"
    }
  },
  "cells": [
    {
      "cell_type": "markdown",
      "metadata": {
        "id": "view-in-github",
        "colab_type": "text"
      },
      "source": [
        "<a href=\"https://colab.research.google.com/github/RaminTKhameneh/SYS611HWs/blob/main/Final%20Project%20-%201.31.1.ipynb\" target=\"_parent\"><img src=\"https://colab.research.google.com/assets/colab-badge.svg\" alt=\"Open In Colab\"/></a>"
      ]
    },
    {
      "cell_type": "code",
      "execution_count": null,
      "metadata": {
        "id": "taEtKnvE0dC-"
      },
      "outputs": [],
      "source": [
        "import numpy as np\n",
        "from copy import deepcopy as dc\n",
        "import matplotlib.pyplot as plt"
      ]
    },
    {
      "cell_type": "code",
      "source": [
        "tractPop = 100\n",
        "agents = list(range(tractPop))\n",
        "capServer1 = 4\n",
        "capServer2 = 5\n",
        "capServer3 = 6\n",
        "capServer4 = 7\n",
        "servTime1 = 10 #sec\n",
        "servTime2 = 10\n",
        "servTime3 = 10\n",
        "servTime4 = 10\n",
        "time = []\n",
        "for i in range(tractPop):\n",
        "  time.append([0,0,0])"
      ],
      "metadata": {
        "id": "nb5Lv17g0itB"
      },
      "execution_count": null,
      "outputs": []
    },
    {
      "cell_type": "code",
      "source": [
        "\n",
        "observed = np.array([0.07679136, 1.00314247, 3.25534653, 3.05477226, 2.23001094,\n",
        "       4.87770017, 4.33580912, 2.94331847, 2.45502635, 0.46241992,\n",
        "       1.97285427, 0.55171449, 0.5674046 , 1.42803054, 2.79434385,\n",
        "       3.292723  , 2.1658134 , 0.22619236, 1.35588331, 3.80851642,\n",
        "       0.78955397, 1.17603395, 2.50094993, 0.69882881, 1.37543226,\n",
        "       1.62290372, 2.08876111, 0.42200264, 1.21106097, 1.3053981 ])\n",
        "np.average(observed)\n",
        "\n",
        "# np.random.exponential(1.5,size = 30)\n"
      ],
      "metadata": {
        "colab": {
          "base_uri": "https://localhost:8080/"
        },
        "id": "HioS5b0_iBXd",
        "outputId": "d7512df1-c1ec-4221-c760-c8a5ee1e8915"
      },
      "execution_count": null,
      "outputs": [
        {
          "output_type": "execute_result",
          "data": {
            "text/plain": [
              "1.8682913096666665"
            ]
          },
          "metadata": {},
          "execution_count": 38
        }
      ]
    },
    {
      "cell_type": "code",
      "source": [
        "enterTimeServ = (np.random.exponential(1.87,size = 1000))\n"
      ],
      "metadata": {
        "id": "SnOUhDT5iB2j"
      },
      "execution_count": null,
      "outputs": []
    },
    {
      "cell_type": "code",
      "source": [
        "# Normalize\n",
        "kwargs = dict(alpha=0.5, bins=15, density=True, stacked=True)\n",
        "\n",
        "# Plot\n",
        "plt.hist(observed, **kwargs, color='g', label='Observed')\n",
        "plt.hist(enterTimeServ, **kwargs, color='b', label='Generated')\n",
        "plt.gca().set(title='Probability Histogram of Departure Intervals', xlabel = 'Time(Sec)', ylabel='Probability')\n",
        "plt.legend();"
      ],
      "metadata": {
        "colab": {
          "base_uri": "https://localhost:8080/",
          "height": 295
        },
        "id": "dsNAI-IAam-2",
        "outputId": "0d613394-859e-490d-d7d9-f196c89cad44"
      },
      "execution_count": null,
      "outputs": [
        {
          "output_type": "display_data",
          "data": {
            "text/plain": [
              "<Figure size 432x288 with 1 Axes>"
            ],
            "image/png": "[encoded data removed]"
          },
          "metadata": {
            "needs_background": "light"
          }
        }
      ]
    },
    {
      "cell_type": "code",
      "source": [
        "def server(server,capServer,agents,time,temp,sink,servTime):\n",
        "  if len(server) < capServer:\n",
        "    print(agents[0],'left home')\n",
        "    server.append(agents[0])\n",
        "    enterTimeServ = (np.random.exponential(1))\n",
        "    time[agents[0]][0] = enterTimeServ + temp\n",
        "    temp = dc(time[agents[0]][0])\n",
        "    agents.pop(0)\n",
        "\n",
        "  #if server is full wait to one agent leave the server\n",
        "  elif len(server) == capServer:\n",
        "    print('server is full, first car exit')\n",
        "    sink.append(server[0])\n",
        "    time[server[0]][1] = dc(servTime + time[server[0]][0])\n",
        "    server.pop(0)\n",
        "\n",
        "  #if server is not full but one agent fully served\n",
        "  tempSum = 0\n",
        "  for ele in server:\n",
        "    tempSum += time[ele][0]\n",
        "\n",
        "  while tempSum >= servTime:\n",
        "    print('first car needs to exit')\n",
        "    sink.append(server[0])\n",
        "    time[server[0]][1] = dc(servTime + time[server[0]][0])\n",
        "    server.pop(0)\n",
        "    tempSum = 0\n",
        "    for ele in server:\n",
        "      tempSum += time[ele][0]\n",
        "  return server,capServer,agents,time,temp,sink,servTime\n",
        "\n",
        "\n",
        "def levelIIserver(server, capServer, agent, agents,time,temp,sink,servTime):\n",
        "  if len(server) < capServer:\n",
        "    print(agents[0],'left home')\n",
        "    server.append(agents[0])\n",
        "    enterTimeServ = (np.random.exponential(1))\n",
        "    time[agents[0]][0] = enterTimeServ + temp\n",
        "    temp = dc(time[agents[0]][0])\n",
        "    agents.pop(0)\n",
        "\n",
        "  #if server is full wait to one agent leave the server\n",
        "  elif len(server) == capServer:\n",
        "    print('server is full, first car exit')\n",
        "    sink.append(server[0])\n",
        "    time[server[0]][1] = dc(servTime + time[server[0]][0])\n",
        "    server.pop(0)\n",
        "\n",
        "  #if server is not full but one agent fully served\n",
        "  tempSum = 0\n",
        "  for ele in server:\n",
        "    tempSum += time[ele][0]\n",
        "\n",
        "  while tempSum >= servTime:\n",
        "    print('first car needs to exit')\n",
        "    sink.append(server[0])\n",
        "    time[server[0]][1] = dc(servTime + time[server[0]][0])\n",
        "    server.pop(0)\n",
        "    tempSum = 0\n",
        "    for ele in server:\n",
        "      tempSum += time[ele][0]\n",
        "  return server,capServer,agents,time,temp,sink,servTime\n"
      ],
      "metadata": {
        "id": "yPLqJEAGpBiQ"
      },
      "execution_count": null,
      "outputs": []
    },
    {
      "cell_type": "code",
      "source": [
        "server1 = []\n",
        "server2 = []\n",
        "server3 = []\n",
        "sink = []\n",
        "temp1 = 0\n",
        "temp2 = 0\n",
        "temp3 = 0\n",
        "temp4 = 0\n",
        "\n",
        "#if there is any agents in home send them to street\n",
        "while len(agents) > 0:\n",
        "  p = np.random.random()\n",
        "  if p < 1/3:\n",
        "    print('server1')\n",
        "    server1,capServer1,agents,time,temp1,sink,servTime1 = dc(server(server1,capServer1,agents,time,temp1,sink,servTime1))\n",
        "  elif p < 2/3:\n",
        "    print('server2') \n",
        "    server2,capServer2,agents,time,temp2,sink,servTime2 = dc(server(server2,capServer2,agents,time,temp2,sink,servTime2)) \n",
        "  else:\n",
        "    print('server3')\n",
        "    server3,capServer3,agents,time,temp3,sink,servTime3 = dc(server(server3,capServer3,agents,time,temp3,sink,servTime3))\n",
        "  print()\n",
        "\n",
        "# if there are only cars in street, send them to the sink\n",
        "while len(server1) > 0:\n",
        "    sink.append(server1[0])\n",
        "    server1.pop(0)\n",
        "    time[server1[0]][1] = dc(servTime1 + time[server1[0]][0])\n",
        "\n",
        "while len(server2) > 0:\n",
        "    sink.append(server2[0])\n",
        "    server2.pop(0)\n",
        "    time[server2[0]][1] = dc(servTime2 + time[server2[0]][0])\n",
        "\n",
        "while len(server3) > 0:\n",
        "    sink.append(server3[0])\n",
        "    server3.pop(0)\n",
        "    time[server3[0]][1] = dc(servTime3 + time[server3[0]][0])"
      ],
      "metadata": {
        "id": "fgPc1kTbojzU",
        "colab": {
          "base_uri": "https://localhost:8080/"
        },
        "outputId": "7ca81c94-f5e5-4600-fad1-92c08ffe7394"
      },
      "execution_count": null,
      "outputs": [
        {
          "output_type": "stream",
          "name": "stdout",
          "text": [
            "server1\n",
            "0 left home\n",
            "\n",
            "server2\n",
            "1 left home\n",
            "\n",
            "server3\n",
            "2 left home\n",
            "\n",
            "server3\n",
            "3 left home\n",
            "\n",
            "server2\n",
            "4 left home\n",
            "\n",
            "server2\n",
            "5 left home\n",
            "\n",
            "server1\n",
            "6 left home\n",
            "\n",
            "server3\n",
            "7 left home\n",
            "\n",
            "server1\n",
            "8 left home\n",
            "\n",
            "server1\n",
            "9 left home\n",
            "\n",
            "server3\n",
            "10 left home\n",
            "\n",
            "server1\n",
            "server is full, first car exit\n",
            "\n",
            "server2\n",
            "11 left home\n",
            "\n",
            "server3\n",
            "12 left home\n",
            "first car needs to exit\n",
            "first car needs to exit\n",
            "first car needs to exit\n",
            "\n",
            "server2\n",
            "13 left home\n",
            "\n",
            "server3\n",
            "14 left home\n",
            "first car needs to exit\n",
            "first car needs to exit\n",
            "\n",
            "server2\n",
            "server is full, first car exit\n",
            "\n",
            "server2\n",
            "15 left home\n",
            "first car needs to exit\n",
            "first car needs to exit\n",
            "first car needs to exit\n",
            "\n",
            "server1\n",
            "16 left home\n",
            "\n",
            "server3\n",
            "17 left home\n",
            "first car needs to exit\n",
            "\n",
            "server1\n",
            "server is full, first car exit\n",
            "\n",
            "server1\n",
            "18 left home\n",
            "first car needs to exit\n",
            "\n",
            "server2\n",
            "19 left home\n",
            "first car needs to exit\n",
            "first car needs to exit\n",
            "\n",
            "server3\n",
            "20 left home\n",
            "first car needs to exit\n",
            "\n",
            "server1\n",
            "21 left home\n",
            "first car needs to exit\n",
            "first car needs to exit\n",
            "\n",
            "server1\n",
            "22 left home\n",
            "first car needs to exit\n",
            "\n",
            "server2\n",
            "23 left home\n",
            "first car needs to exit\n",
            "\n",
            "server1\n",
            "24 left home\n",
            "first car needs to exit\n",
            "first car needs to exit\n",
            "\n",
            "server1\n",
            "25 left home\n",
            "first car needs to exit\n",
            "\n",
            "server1\n",
            "26 left home\n",
            "first car needs to exit\n",
            "\n",
            "server1\n",
            "27 left home\n",
            "first car needs to exit\n",
            "first car needs to exit\n",
            "\n",
            "server3\n",
            "28 left home\n",
            "first car needs to exit\n",
            "\n",
            "server1\n",
            "29 left home\n",
            "first car needs to exit\n",
            "\n",
            "server2\n",
            "30 left home\n",
            "first car needs to exit\n",
            "\n",
            "server3\n",
            "31 left home\n",
            "first car needs to exit\n",
            "\n",
            "server3\n",
            "32 left home\n",
            "first car needs to exit\n",
            "\n",
            "server1\n",
            "33 left home\n",
            "first car needs to exit\n",
            "\n",
            "server3\n",
            "34 left home\n",
            "first car needs to exit\n",
            "\n",
            "server2\n",
            "35 left home\n",
            "first car needs to exit\n",
            "\n",
            "server2\n",
            "36 left home\n",
            "first car needs to exit\n",
            "\n",
            "server3\n",
            "37 left home\n",
            "first car needs to exit\n",
            "\n",
            "server1\n",
            "38 left home\n",
            "first car needs to exit\n",
            "\n",
            "server1\n",
            "39 left home\n",
            "first car needs to exit\n",
            "\n",
            "server1\n",
            "40 left home\n",
            "first car needs to exit\n",
            "\n",
            "server2\n",
            "41 left home\n",
            "first car needs to exit\n",
            "\n",
            "server2\n",
            "42 left home\n",
            "first car needs to exit\n",
            "\n",
            "server2\n",
            "43 left home\n",
            "first car needs to exit\n",
            "\n",
            "server1\n",
            "44 left home\n",
            "first car needs to exit\n",
            "\n",
            "server3\n",
            "45 left home\n",
            "first car needs to exit\n",
            "first car needs to exit\n",
            "\n",
            "server2\n",
            "46 left home\n",
            "first car needs to exit\n",
            "first car needs to exit\n",
            "\n",
            "server1\n",
            "47 left home\n",
            "first car needs to exit\n",
            "\n",
            "server1\n",
            "48 left home\n",
            "first car needs to exit\n",
            "\n",
            "server1\n",
            "49 left home\n",
            "first car needs to exit\n",
            "\n",
            "server1\n",
            "50 left home\n",
            "first car needs to exit\n",
            "\n",
            "server2\n",
            "51 left home\n",
            "first car needs to exit\n",
            "\n",
            "server1\n",
            "52 left home\n",
            "first car needs to exit\n",
            "\n",
            "server1\n",
            "53 left home\n",
            "first car needs to exit\n",
            "\n",
            "server3\n",
            "54 left home\n",
            "first car needs to exit\n",
            "\n",
            "server2\n",
            "55 left home\n",
            "first car needs to exit\n",
            "\n",
            "server3\n",
            "56 left home\n",
            "first car needs to exit\n",
            "\n",
            "server1\n",
            "57 left home\n",
            "first car needs to exit\n",
            "\n",
            "server3\n",
            "58 left home\n",
            "first car needs to exit\n",
            "\n",
            "server2\n",
            "59 left home\n",
            "first car needs to exit\n",
            "\n",
            "server1\n",
            "60 left home\n",
            "first car needs to exit\n",
            "\n",
            "server3\n",
            "61 left home\n",
            "first car needs to exit\n",
            "\n",
            "server2\n",
            "62 left home\n",
            "first car needs to exit\n",
            "\n",
            "server2\n",
            "63 left home\n",
            "first car needs to exit\n",
            "\n",
            "server2\n",
            "64 left home\n",
            "first car needs to exit\n",
            "\n",
            "server1\n",
            "65 left home\n",
            "first car needs to exit\n",
            "\n",
            "server2\n",
            "66 left home\n",
            "first car needs to exit\n",
            "\n",
            "server1\n",
            "67 left home\n",
            "first car needs to exit\n",
            "\n",
            "server2\n",
            "68 left home\n",
            "first car needs to exit\n",
            "\n",
            "server1\n",
            "69 left home\n",
            "first car needs to exit\n",
            "\n",
            "server1\n",
            "70 left home\n",
            "first car needs to exit\n",
            "\n",
            "server1\n",
            "71 left home\n",
            "first car needs to exit\n",
            "\n",
            "server2\n",
            "72 left home\n",
            "first car needs to exit\n",
            "\n",
            "server2\n",
            "73 left home\n",
            "first car needs to exit\n",
            "\n",
            "server2\n",
            "74 left home\n",
            "first car needs to exit\n",
            "\n",
            "server3\n",
            "75 left home\n",
            "first car needs to exit\n",
            "\n",
            "server2\n",
            "76 left home\n",
            "first car needs to exit\n",
            "\n",
            "server2\n",
            "77 left home\n",
            "first car needs to exit\n",
            "\n",
            "server1\n",
            "78 left home\n",
            "first car needs to exit\n",
            "\n",
            "server3\n",
            "79 left home\n",
            "first car needs to exit\n",
            "\n",
            "server2\n",
            "80 left home\n",
            "first car needs to exit\n",
            "\n",
            "server3\n",
            "81 left home\n",
            "first car needs to exit\n",
            "\n",
            "server1\n",
            "82 left home\n",
            "first car needs to exit\n",
            "\n",
            "server3\n",
            "83 left home\n",
            "first car needs to exit\n",
            "\n",
            "server1\n",
            "84 left home\n",
            "first car needs to exit\n",
            "\n",
            "server2\n",
            "85 left home\n",
            "first car needs to exit\n",
            "\n",
            "server1\n",
            "86 left home\n",
            "first car needs to exit\n",
            "\n",
            "server3\n",
            "87 left home\n",
            "first car needs to exit\n",
            "\n",
            "server3\n",
            "88 left home\n",
            "first car needs to exit\n",
            "\n",
            "server2\n",
            "89 left home\n",
            "first car needs to exit\n",
            "\n",
            "server1\n",
            "90 left home\n",
            "first car needs to exit\n",
            "\n",
            "server1\n",
            "91 left home\n",
            "first car needs to exit\n",
            "\n",
            "server3\n",
            "92 left home\n",
            "first car needs to exit\n",
            "\n",
            "server2\n",
            "93 left home\n",
            "first car needs to exit\n",
            "\n",
            "server3\n",
            "94 left home\n",
            "first car needs to exit\n",
            "\n",
            "server1\n",
            "95 left home\n",
            "first car needs to exit\n",
            "\n",
            "server1\n",
            "96 left home\n",
            "first car needs to exit\n",
            "\n",
            "server2\n",
            "97 left home\n",
            "first car needs to exit\n",
            "\n",
            "server2\n",
            "98 left home\n",
            "first car needs to exit\n",
            "\n",
            "server2\n",
            "99 left home\n",
            "first car needs to exit\n",
            "\n"
          ]
        }
      ]
    },
    {
      "cell_type": "code",
      "source": [
        "time[0:10]"
      ],
      "metadata": {
        "colab": {
          "base_uri": "https://localhost:8080/"
        },
        "id": "8nCxDkAS81oD",
        "outputId": "4df93e5a-fd9d-4694-dea7-4b3c5da746d2"
      },
      "execution_count": null,
      "outputs": [
        {
          "output_type": "execute_result",
          "data": {
            "text/plain": [
              "[[0.634486416245834, 10.634486416245833],\n",
              " [0.09582121494667718, 10.095821214946676],\n",
              " [0.9563910130796803, 10.95639101307968],\n",
              " [1.374097494641774, 11.374097494641774],\n",
              " [0.7113366144974587, 10.711336614497458],\n",
              " [1.5373835156700129, 11.537383515670014],\n",
              " [1.2499097631357072, 11.249909763135708],\n",
              " [2.3002723686894355, 12.300272368689436],\n",
              " [1.8260009749564303, 11.82600097495643],\n",
              " [2.839787056750679, 12.83978705675068]]"
            ]
          },
          "metadata": {},
          "execution_count": 177
        }
      ]
    },
    {
      "cell_type": "code",
      "source": [
        "server1,server2,server3"
      ],
      "metadata": {
        "id": "BywOE8yI81l9",
        "colab": {
          "base_uri": "https://localhost:8080/"
        },
        "outputId": "4b104f14-7c9b-43cd-ec8f-689f5d856ddd"
      },
      "execution_count": null,
      "outputs": [
        {
          "output_type": "execute_result",
          "data": {
            "text/plain": [
              "([], [], [])"
            ]
          },
          "metadata": {},
          "execution_count": 35
        }
      ]
    },
    {
      "cell_type": "code",
      "source": [],
      "metadata": {
        "id": "Z8zmpIXQ81hn"
      },
      "execution_count": null,
      "outputs": []
    },
    {
      "cell_type": "code",
      "source": [],
      "metadata": {
        "id": "jVtq64hs81fT"
      },
      "execution_count": null,
      "outputs": []
    },
    {
      "cell_type": "code",
      "source": [
        "server1 = []\n",
        "enterTimeServ1 = []\n",
        "sink = []\n",
        "temp = 0\n",
        "\n",
        "#if there is any agents in home send them to street\n",
        "while len(agents) > 0:\n",
        "  if len(server1) < capServer1:\n",
        "    server1.append(agents[0])\n",
        "    enterTimeServ1 = (np.random.exponential(5))\n",
        "    time[agents[0]][0] = enterTimeServ1 + temp\n",
        "    temp = dc(time[agents[0]][0])\n",
        "    agents.pop(0)\n",
        "\n",
        "  #if server is full wait to one agent leave the server\n",
        "  elif len(server1) == capServer1:\n",
        "    sink.append(server1[0])\n",
        "    time[server1[0]][1] = dc(servTime1 + time[server1[0]][0])\n",
        "    server1.pop(0)\n",
        "    # time[agents[counter][0]] = enterTimeServ1 + time[agents[counter-1][0]]\n",
        "\n",
        "    # time.append(time[-1] + servTime1 - sum(enterTimeServ1))\n",
        "\n",
        "  #if server is not full but one agent fully served\n",
        "  tempSum = 0\n",
        "  for ele in server1:\n",
        "    tempSum += time[ele][0]\n",
        "\n",
        "  while tempSum >= servTime1:\n",
        "    sink.append(server1[0])\n",
        "    time[server1[0]][1] = dc(servTime1 + time[server1[0]][0])\n",
        "    server1.pop(0)\n",
        "    tempSum = 0\n",
        "    for ele in server1:\n",
        "      tempSum += time[ele][0]\n",
        "    \n",
        "\n",
        "\n",
        "  # # while sum(enterTimeServ1) > servTime1:\n",
        "  #   sink.append(server1[0])\n",
        "  #   time[server1[0]][1] = dc(servTime1 + time[server1[0]][0])\n",
        "  #   server1.pop(0)\n",
        "  #   enterTimeServ1.pop(0)\n",
        "\n",
        "#if there are only cars in street, send them to the sink\n",
        "while len(server1) > 0:\n",
        "    sink.append(server1[0])\n",
        "    server1.pop(0)\n",
        "    enterTimeServ1.pop(0)\n",
        "    time[server1[0]][1] = dc(servTime1 + time[server1[0]][0])\n"
      ],
      "metadata": {
        "id": "8fuArYN00saX"
      },
      "execution_count": null,
      "outputs": []
    },
    {
      "cell_type": "code",
      "source": [
        "time[-1][1]/3600"
      ],
      "metadata": {
        "colab": {
          "base_uri": "https://localhost:8080/"
        },
        "id": "rGZLYCY7d7Wy",
        "outputId": "3e6082b9-0007-4647-9257-55af6688c651"
      },
      "execution_count": null,
      "outputs": [
        {
          "output_type": "execute_result",
          "data": {
            "text/plain": [
              "1.460671055370169"
            ]
          },
          "metadata": {},
          "execution_count": 58
        }
      ]
    },
    {
      "cell_type": "code",
      "source": [],
      "metadata": {
        "id": "OqWIaJeVd7U7",
        "colab": {
          "base_uri": "https://localhost:8080/"
        },
        "outputId": "fe26b400-8704-4f4e-864b-b30e06df0ddb"
      },
      "execution_count": null,
      "outputs": [
        {
          "output_type": "execute_result",
          "data": {
            "text/plain": [
              "0.842425959678081"
            ]
          },
          "metadata": {},
          "execution_count": 125
        }
      ]
    },
    {
      "cell_type": "code",
      "source": [],
      "metadata": {
        "id": "nuSScfy8d7RN"
      },
      "execution_count": null,
      "outputs": []
    },
    {
      "cell_type": "code",
      "source": [],
      "metadata": {
        "id": "hU6r2onmd7OJ"
      },
      "execution_count": null,
      "outputs": []
    },
    {
      "cell_type": "code",
      "source": [
        "remainedAgents = tractPop\n",
        "\n",
        "# agentInServer1 = 0\n",
        "# agentInServer2 = 0\n",
        "# agentInServer3 = 0\n",
        "# agentInServer4 = 0\n",
        "\n",
        "server1 = []\n",
        "enterTimeServ1 = []\n",
        "sink = []\n",
        "time = [0]\n",
        "\n",
        "#if there is any agents in home send them to street\n",
        "while len(agents) > 0:\n",
        "\n",
        "  #enter agent to server\n",
        "  if len(server1) < capServer1:\n",
        "    server1.append(agents[0])\n",
        "    enterTimeServ1.append(np.random.exponential(5))\n",
        "    agents.pop(0)\n",
        "    # time.append(time[-1] + enterTimeServ1[-1])\n",
        "\n",
        "  #if server is full wait to one agent leave the server\n",
        "  else:\n",
        "    # time.append(time[-1] + servTime1 - sum(enterTimeServ1))\n",
        "    sink.append(server1[0])\n",
        "    server1.pop(0)\n",
        "    enterTimeServ1.pop(0)\n",
        "\n",
        "  while sum(enterTimeServ1) > servTime1:\n",
        "    sink.append(server1[0])\n",
        "    server1.pop(0)\n",
        "    enterTimeServ1.pop(0)\n",
        "\n",
        "#if there are only cars in street, send them to the sink\n",
        "while len(server1) > 0:\n",
        "    sink.append(server1[0])\n",
        "    server1.pop(0)\n",
        "    enterTimeServ1.pop(0)\n",
        "\n",
        "\n",
        "  #  if  sum(enterTimeServ1) < servTime1:\n",
        "  #   time += max(servTime1,sum(enterTimeServ1))\n",
        "  #if car recived to sink then remove it from server and add it to the center\n",
        "  # while sum(enterTimeServ1) >= servTime1:\n",
        "  #   sink.append(server1[0])\n",
        "  #   server1.pop(0)\n",
        "  #   enterTimeServ1.pop(0)\n",
        "  #   print(server1)"
      ],
      "metadata": {
        "id": "ekdHzFiq1jw2"
      },
      "execution_count": null,
      "outputs": []
    },
    {
      "cell_type": "code",
      "source": [
        "sum(enterTimeServ1)"
      ],
      "metadata": {
        "colab": {
          "base_uri": "https://localhost:8080/"
        },
        "id": "RG_e0_py33cH",
        "outputId": "d13266dc-f7a1-4642-d59b-e725a9a8fbee"
      },
      "execution_count": null,
      "outputs": [
        {
          "output_type": "execute_result",
          "data": {
            "text/plain": [
              "0"
            ]
          },
          "metadata": {},
          "execution_count": 5
        }
      ]
    },
    {
      "cell_type": "code",
      "source": [
        "len(sink)"
      ],
      "metadata": {
        "colab": {
          "base_uri": "https://localhost:8080/"
        },
        "id": "4oIF_0g54Uk6",
        "outputId": "356c9f98-7a69-443b-b7a5-2fea5edf0766"
      },
      "execution_count": null,
      "outputs": [
        {
          "output_type": "execute_result",
          "data": {
            "text/plain": [
              "0"
            ]
          },
          "metadata": {},
          "execution_count": 6
        }
      ]
    },
    {
      "cell_type": "code",
      "source": [],
      "metadata": {
        "id": "TTpY173nhUSM"
      },
      "execution_count": null,
      "outputs": []
    }
  ]
}