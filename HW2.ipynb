{
  "nbformat": 4,
  "nbformat_minor": 0,
  "metadata": {
    "colab": {
      "provenance": [],
      "authorship_tag": "ABX9TyOeINkyXpgosFlQVsa2H6Mw",
      "include_colab_link": true
    },
    "kernelspec": {
      "name": "python3",
      "display_name": "Python 3"
    },
    "language_info": {
      "name": "python"
    }
  },
  "cells": [
    {
      "cell_type": "markdown",
      "metadata": {
        "id": "view-in-github",
        "colab_type": "text"
      },
      "source": [
        "<a href=\"https://colab.research.google.com/github/RaminTKhameneh/SYS611HWs/blob/main/HW2.ipynb\" target=\"_parent\"><img src=\"https://colab.research.google.com/assets/colab-badge.svg\" alt=\"Open In Colab\"/></a>"
      ]
    },
    {
      "cell_type": "markdown",
      "source": [
        "**Libraries**"
      ],
      "metadata": {
        "id": "EXFP7_qgynvZ"
      }
    },
    {
      "cell_type": "code",
      "source": [
        "import numpy as np\n",
        "import pandas as pd\n",
        "import matplotlib.pyplot as plt\n",
        "from copy import deepcopy as dc\n",
        "import scipy.stats as st\n",
        "import cmath"
      ],
      "metadata": {
        "id": "c8cbVjOnyk9L"
      },
      "execution_count": null,
      "outputs": []
    },
    {
      "cell_type": "markdown",
      "source": [
        "## ***2.1 Discrete Process Generator***\n",
        "\n",
        "**Part a**"
      ],
      "metadata": {
        "id": "hbSIhbELyuX9"
      }
    },
    {
      "cell_type": "code",
      "source": [
        "set_x_y = []\n",
        "for x in range(6):\n",
        "  for y in range(6):\n",
        "    temp = [x+1,y+1]\n",
        "    set_x_y.append(temp)\n",
        "set_x_y\n",
        "\n",
        "X = []\n",
        "for element in set_x_y:\n",
        "  X.append(max(element))\n",
        "pd.DataFrame(X).T"
      ],
      "metadata": {
        "colab": {
          "base_uri": "https://localhost:8080/",
          "height": 110
        },
        "id": "CiT2y5Twy5I8",
        "outputId": "d65e86a9-c901-455f-b4f8-f9a58327e7bb"
      },
      "execution_count": null,
      "outputs": [
        {
          "output_type": "execute_result",
          "data": {
            "text/plain": [
              "   0   1   2   3   4   5   6   7   8   9   ...  26  27  28  29  30  31  32  \\\n",
              "0   1   2   3   4   5   6   2   2   3   4  ...   5   5   5   6   6   6   6   \n",
              "\n",
              "   33  34  35  \n",
              "0   6   6   6  \n",
              "\n",
              "[1 rows x 36 columns]"
            ],
            "text/html": [
              "\n",
              "  <div id=\"df-e3259184-bd58-410f-8d22-8d015be92851\">\n",
              "    <div class=\"colab-df-container\">\n",
              "      <div>\n",
              "<style scoped>\n",
              "    .dataframe tbody tr th:only-of-type {\n",
              "        vertical-align: middle;\n",
              "    }\n",
              "\n",
              "    .dataframe tbody tr th {\n",
              "        vertical-align: top;\n",
              "    }\n",
              "\n",
              "    .dataframe thead th {\n",
              "        text-align: right;\n",
              "    }\n",
              "</style>\n",
              "<table border=\"1\" class=\"dataframe\">\n",
              "  <thead>\n",
              "    <tr style=\"text-align: right;\">\n",
              "      <th></th>\n",
              "      <th>0</th>\n",
              "      <th>1</th>\n",
              "      <th>2</th>\n",
              "      <th>3</th>\n",
              "      <th>4</th>\n",
              "      <th>5</th>\n",
              "      <th>6</th>\n",
              "      <th>7</th>\n",
              "      <th>8</th>\n",
              "      <th>9</th>\n",
              "      <th>...</th>\n",
              "      <th>26</th>\n",
              "      <th>27</th>\n",
              "      <th>28</th>\n",
              "      <th>29</th>\n",
              "      <th>30</th>\n",
              "      <th>31</th>\n",
              "      <th>32</th>\n",
              "      <th>33</th>\n",
              "      <th>34</th>\n",
              "      <th>35</th>\n",
              "    </tr>\n",
              "  </thead>\n",
              "  <tbody>\n",
              "    <tr>\n",
              "      <th>0</th>\n",
              "      <td>1</td>\n",
              "      <td>2</td>\n",
              "      <td>3</td>\n",
              "      <td>4</td>\n",
              "      <td>5</td>\n",
              "      <td>6</td>\n",
              "      <td>2</td>\n",
              "      <td>2</td>\n",
              "      <td>3</td>\n",
              "      <td>4</td>\n",
              "      <td>...</td>\n",
              "      <td>5</td>\n",
              "      <td>5</td>\n",
              "      <td>5</td>\n",
              "      <td>6</td>\n",
              "      <td>6</td>\n",
              "      <td>6</td>\n",
              "      <td>6</td>\n",
              "      <td>6</td>\n",
              "      <td>6</td>\n",
              "      <td>6</td>\n",
              "    </tr>\n",
              "  </tbody>\n",
              "</table>\n",
              "<p>1 rows × 36 columns</p>\n",
              "</div>\n",
              "      <button class=\"colab-df-convert\" onclick=\"convertToInteractive('df-e3259184-bd58-410f-8d22-8d015be92851')\"\n",
              "              title=\"Convert this dataframe to an interactive table.\"\n",
              "              style=\"display:none;\">\n",
              "        \n",
              "  <svg xmlns=\"http://www.w3.org/2000/svg\" height=\"24px\"viewBox=\"0 0 24 24\"\n",
              "       width=\"24px\">\n",
              "    <path d=\"M0 0h24v24H0V0z\" fill=\"none\"/>\n",
              "    <path d=\"M18.56 5.44l.94 2.06.94-2.06 2.06-.94-2.06-.94-.94-2.06-.94 2.06-2.06.94zm-11 1L8.5 8.5l.94-2.06 2.06-.94-2.06-.94L8.5 2.5l-.94 2.06-2.06.94zm10 10l.94 2.06.94-2.06 2.06-.94-2.06-.94-.94-2.06-.94 2.06-2.06.94z\"/><path d=\"M17.41 7.96l-1.37-1.37c-.4-.4-.92-.59-1.43-.59-.52 0-1.04.2-1.43.59L10.3 9.45l-7.72 7.72c-.78.78-.78 2.05 0 2.83L4 21.41c.39.39.9.59 1.41.59.51 0 1.02-.2 1.41-.59l7.78-7.78 2.81-2.81c.8-.78.8-2.07 0-2.86zM5.41 20L4 18.59l7.72-7.72 1.47 1.35L5.41 20z\"/>\n",
              "  </svg>\n",
              "      </button>\n",
              "      \n",
              "  <style>\n",
              "    .colab-df-container {\n",
              "      display:flex;\n",
              "      flex-wrap:wrap;\n",
              "      gap: 12px;\n",
              "    }\n",
              "\n",
              "    .colab-df-convert {\n",
              "      background-color: #E8F0FE;\n",
              "      border: none;\n",
              "      border-radius: 50%;\n",
              "      cursor: pointer;\n",
              "      display: none;\n",
              "      fill: #1967D2;\n",
              "      height: 32px;\n",
              "      padding: 0 0 0 0;\n",
              "      width: 32px;\n",
              "    }\n",
              "\n",
              "    .colab-df-convert:hover {\n",
              "      background-color: #E2EBFA;\n",
              "      box-shadow: 0px 1px 2px rgba(60, 64, 67, 0.3), 0px 1px 3px 1px rgba(60, 64, 67, 0.15);\n",
              "      fill: #174EA6;\n",
              "    }\n",
              "\n",
              "    [theme=dark] .colab-df-convert {\n",
              "      background-color: #3B4455;\n",
              "      fill: #D2E3FC;\n",
              "    }\n",
              "\n",
              "    [theme=dark] .colab-df-convert:hover {\n",
              "      background-color: #434B5C;\n",
              "      box-shadow: 0px 1px 3px 1px rgba(0, 0, 0, 0.15);\n",
              "      filter: drop-shadow(0px 1px 2px rgba(0, 0, 0, 0.3));\n",
              "      fill: #FFFFFF;\n",
              "    }\n",
              "  </style>\n",
              "\n",
              "      <script>\n",
              "        const buttonEl =\n",
              "          document.querySelector('#df-e3259184-bd58-410f-8d22-8d015be92851 button.colab-df-convert');\n",
              "        buttonEl.style.display =\n",
              "          google.colab.kernel.accessAllowed ? 'block' : 'none';\n",
              "\n",
              "        async function convertToInteractive(key) {\n",
              "          const element = document.querySelector('#df-e3259184-bd58-410f-8d22-8d015be92851');\n",
              "          const dataTable =\n",
              "            await google.colab.kernel.invokeFunction('convertToInteractive',\n",
              "                                                     [key], {});\n",
              "          if (!dataTable) return;\n",
              "\n",
              "          const docLinkHtml = 'Like what you see? Visit the ' +\n",
              "            '<a target=\"_blank\" href=https://colab.research.google.com/notebooks/data_table.ipynb>data table notebook</a>'\n",
              "            + ' to learn more about interactive tables.';\n",
              "          element.innerHTML = '';\n",
              "          dataTable['output_type'] = 'display_data';\n",
              "          await google.colab.output.renderOutput(dataTable, element);\n",
              "          const docLink = document.createElement('div');\n",
              "          docLink.innerHTML = docLinkHtml;\n",
              "          element.appendChild(docLink);\n",
              "        }\n",
              "      </script>\n",
              "    </div>\n",
              "  </div>\n",
              "  "
            ]
          },
          "metadata": {},
          "execution_count": 3
        }
      ]
    },
    {
      "cell_type": "markdown",
      "source": [
        "**Part b**"
      ],
      "metadata": {
        "id": "Zb5o2iC60vOR"
      }
    },
    {
      "cell_type": "code",
      "source": [
        "data = pd.Series(X)\n",
        "\n",
        "count = data.value_counts()\n",
        "frequency = []\n",
        "sum = 0\n",
        "for ele in range(6):\n",
        "  sum += count[ele+1]\n",
        "\n",
        "PMF = []\n",
        "for ele in range(6):\n",
        "  PMF.append([ele+1,count[ele+1]/sum])\n",
        "\n",
        "pd.DataFrame(PMF)\n"
      ],
      "metadata": {
        "colab": {
          "base_uri": "https://localhost:8080/",
          "height": 238
        },
        "id": "44up89CN0uu8",
        "outputId": "8330ce3e-549a-43cb-9cff-25c95fcd7df2"
      },
      "execution_count": null,
      "outputs": [
        {
          "output_type": "execute_result",
          "data": {
            "text/plain": [
              "   0         1\n",
              "0  1  0.027778\n",
              "1  2  0.083333\n",
              "2  3  0.138889\n",
              "3  4  0.194444\n",
              "4  5  0.250000\n",
              "5  6  0.305556"
            ],
            "text/html": [
              "\n",
              "  <div id=\"df-4e108594-357c-45bc-a6c9-1398c2af3fe6\">\n",
              "    <div class=\"colab-df-container\">\n",
              "      <div>\n",
              "<style scoped>\n",
              "    .dataframe tbody tr th:only-of-type {\n",
              "        vertical-align: middle;\n",
              "    }\n",
              "\n",
              "    .dataframe tbody tr th {\n",
              "        vertical-align: top;\n",
              "    }\n",
              "\n",
              "    .dataframe thead th {\n",
              "        text-align: right;\n",
              "    }\n",
              "</style>\n",
              "<table border=\"1\" class=\"dataframe\">\n",
              "  <thead>\n",
              "    <tr style=\"text-align: right;\">\n",
              "      <th></th>\n",
              "      <th>0</th>\n",
              "      <th>1</th>\n",
              "    </tr>\n",
              "  </thead>\n",
              "  <tbody>\n",
              "    <tr>\n",
              "      <th>0</th>\n",
              "      <td>1</td>\n",
              "      <td>0.027778</td>\n",
              "    </tr>\n",
              "    <tr>\n",
              "      <th>1</th>\n",
              "      <td>2</td>\n",
              "      <td>0.083333</td>\n",
              "    </tr>\n",
              "    <tr>\n",
              "      <th>2</th>\n",
              "      <td>3</td>\n",
              "      <td>0.138889</td>\n",
              "    </tr>\n",
              "    <tr>\n",
              "      <th>3</th>\n",
              "      <td>4</td>\n",
              "      <td>0.194444</td>\n",
              "    </tr>\n",
              "    <tr>\n",
              "      <th>4</th>\n",
              "      <td>5</td>\n",
              "      <td>0.250000</td>\n",
              "    </tr>\n",
              "    <tr>\n",
              "      <th>5</th>\n",
              "      <td>6</td>\n",
              "      <td>0.305556</td>\n",
              "    </tr>\n",
              "  </tbody>\n",
              "</table>\n",
              "</div>\n",
              "      <button class=\"colab-df-convert\" onclick=\"convertToInteractive('df-4e108594-357c-45bc-a6c9-1398c2af3fe6')\"\n",
              "              title=\"Convert this dataframe to an interactive table.\"\n",
              "              style=\"display:none;\">\n",
              "        \n",
              "  <svg xmlns=\"http://www.w3.org/2000/svg\" height=\"24px\"viewBox=\"0 0 24 24\"\n",
              "       width=\"24px\">\n",
              "    <path d=\"M0 0h24v24H0V0z\" fill=\"none\"/>\n",
              "    <path d=\"M18.56 5.44l.94 2.06.94-2.06 2.06-.94-2.06-.94-.94-2.06-.94 2.06-2.06.94zm-11 1L8.5 8.5l.94-2.06 2.06-.94-2.06-.94L8.5 2.5l-.94 2.06-2.06.94zm10 10l.94 2.06.94-2.06 2.06-.94-2.06-.94-.94-2.06-.94 2.06-2.06.94z\"/><path d=\"M17.41 7.96l-1.37-1.37c-.4-.4-.92-.59-1.43-.59-.52 0-1.04.2-1.43.59L10.3 9.45l-7.72 7.72c-.78.78-.78 2.05 0 2.83L4 21.41c.39.39.9.59 1.41.59.51 0 1.02-.2 1.41-.59l7.78-7.78 2.81-2.81c.8-.78.8-2.07 0-2.86zM5.41 20L4 18.59l7.72-7.72 1.47 1.35L5.41 20z\"/>\n",
              "  </svg>\n",
              "      </button>\n",
              "      \n",
              "  <style>\n",
              "    .colab-df-container {\n",
              "      display:flex;\n",
              "      flex-wrap:wrap;\n",
              "      gap: 12px;\n",
              "    }\n",
              "\n",
              "    .colab-df-convert {\n",
              "      background-color: #E8F0FE;\n",
              "      border: none;\n",
              "      border-radius: 50%;\n",
              "      cursor: pointer;\n",
              "      display: none;\n",
              "      fill: #1967D2;\n",
              "      height: 32px;\n",
              "      padding: 0 0 0 0;\n",
              "      width: 32px;\n",
              "    }\n",
              "\n",
              "    .colab-df-convert:hover {\n",
              "      background-color: #E2EBFA;\n",
              "      box-shadow: 0px 1px 2px rgba(60, 64, 67, 0.3), 0px 1px 3px 1px rgba(60, 64, 67, 0.15);\n",
              "      fill: #174EA6;\n",
              "    }\n",
              "\n",
              "    [theme=dark] .colab-df-convert {\n",
              "      background-color: #3B4455;\n",
              "      fill: #D2E3FC;\n",
              "    }\n",
              "\n",
              "    [theme=dark] .colab-df-convert:hover {\n",
              "      background-color: #434B5C;\n",
              "      box-shadow: 0px 1px 3px 1px rgba(0, 0, 0, 0.15);\n",
              "      filter: drop-shadow(0px 1px 2px rgba(0, 0, 0, 0.3));\n",
              "      fill: #FFFFFF;\n",
              "    }\n",
              "  </style>\n",
              "\n",
              "      <script>\n",
              "        const buttonEl =\n",
              "          document.querySelector('#df-4e108594-357c-45bc-a6c9-1398c2af3fe6 button.colab-df-convert');\n",
              "        buttonEl.style.display =\n",
              "          google.colab.kernel.accessAllowed ? 'block' : 'none';\n",
              "\n",
              "        async function convertToInteractive(key) {\n",
              "          const element = document.querySelector('#df-4e108594-357c-45bc-a6c9-1398c2af3fe6');\n",
              "          const dataTable =\n",
              "            await google.colab.kernel.invokeFunction('convertToInteractive',\n",
              "                                                     [key], {});\n",
              "          if (!dataTable) return;\n",
              "\n",
              "          const docLinkHtml = 'Like what you see? Visit the ' +\n",
              "            '<a target=\"_blank\" href=https://colab.research.google.com/notebooks/data_table.ipynb>data table notebook</a>'\n",
              "            + ' to learn more about interactive tables.';\n",
              "          element.innerHTML = '';\n",
              "          dataTable['output_type'] = 'display_data';\n",
              "          await google.colab.output.renderOutput(dataTable, element);\n",
              "          const docLink = document.createElement('div');\n",
              "          docLink.innerHTML = docLinkHtml;\n",
              "          element.appendChild(docLink);\n",
              "        }\n",
              "      </script>\n",
              "    </div>\n",
              "  </div>\n",
              "  "
            ]
          },
          "metadata": {},
          "execution_count": 4
        }
      ]
    },
    {
      "cell_type": "code",
      "source": [
        "CDF = []\n",
        "temp = 0\n",
        "for ele in PMF:\n",
        "  temp += ele[1]\n",
        "  CDF.append([ele[0],temp])\n",
        "pd.DataFrame(CDF)\n"
      ],
      "metadata": {
        "colab": {
          "base_uri": "https://localhost:8080/",
          "height": 238
        },
        "id": "crjp5pYi5-I7",
        "outputId": "f9b95737-7a5a-4d15-8135-44b5d7ed8b18"
      },
      "execution_count": null,
      "outputs": [
        {
          "output_type": "execute_result",
          "data": {
            "text/plain": [
              "   0         1\n",
              "0  1  0.027778\n",
              "1  2  0.111111\n",
              "2  3  0.250000\n",
              "3  4  0.444444\n",
              "4  5  0.694444\n",
              "5  6  1.000000"
            ],
            "text/html": [
              "\n",
              "  <div id=\"df-46daf5c0-d76d-4bc1-9322-1b1b5ccaee40\">\n",
              "    <div class=\"colab-df-container\">\n",
              "      <div>\n",
              "<style scoped>\n",
              "    .dataframe tbody tr th:only-of-type {\n",
              "        vertical-align: middle;\n",
              "    }\n",
              "\n",
              "    .dataframe tbody tr th {\n",
              "        vertical-align: top;\n",
              "    }\n",
              "\n",
              "    .dataframe thead th {\n",
              "        text-align: right;\n",
              "    }\n",
              "</style>\n",
              "<table border=\"1\" class=\"dataframe\">\n",
              "  <thead>\n",
              "    <tr style=\"text-align: right;\">\n",
              "      <th></th>\n",
              "      <th>0</th>\n",
              "      <th>1</th>\n",
              "    </tr>\n",
              "  </thead>\n",
              "  <tbody>\n",
              "    <tr>\n",
              "      <th>0</th>\n",
              "      <td>1</td>\n",
              "      <td>0.027778</td>\n",
              "    </tr>\n",
              "    <tr>\n",
              "      <th>1</th>\n",
              "      <td>2</td>\n",
              "      <td>0.111111</td>\n",
              "    </tr>\n",
              "    <tr>\n",
              "      <th>2</th>\n",
              "      <td>3</td>\n",
              "      <td>0.250000</td>\n",
              "    </tr>\n",
              "    <tr>\n",
              "      <th>3</th>\n",
              "      <td>4</td>\n",
              "      <td>0.444444</td>\n",
              "    </tr>\n",
              "    <tr>\n",
              "      <th>4</th>\n",
              "      <td>5</td>\n",
              "      <td>0.694444</td>\n",
              "    </tr>\n",
              "    <tr>\n",
              "      <th>5</th>\n",
              "      <td>6</td>\n",
              "      <td>1.000000</td>\n",
              "    </tr>\n",
              "  </tbody>\n",
              "</table>\n",
              "</div>\n",
              "      <button class=\"colab-df-convert\" onclick=\"convertToInteractive('df-46daf5c0-d76d-4bc1-9322-1b1b5ccaee40')\"\n",
              "              title=\"Convert this dataframe to an interactive table.\"\n",
              "              style=\"display:none;\">\n",
              "        \n",
              "  <svg xmlns=\"http://www.w3.org/2000/svg\" height=\"24px\"viewBox=\"0 0 24 24\"\n",
              "       width=\"24px\">\n",
              "    <path d=\"M0 0h24v24H0V0z\" fill=\"none\"/>\n",
              "    <path d=\"M18.56 5.44l.94 2.06.94-2.06 2.06-.94-2.06-.94-.94-2.06-.94 2.06-2.06.94zm-11 1L8.5 8.5l.94-2.06 2.06-.94-2.06-.94L8.5 2.5l-.94 2.06-2.06.94zm10 10l.94 2.06.94-2.06 2.06-.94-2.06-.94-.94-2.06-.94 2.06-2.06.94z\"/><path d=\"M17.41 7.96l-1.37-1.37c-.4-.4-.92-.59-1.43-.59-.52 0-1.04.2-1.43.59L10.3 9.45l-7.72 7.72c-.78.78-.78 2.05 0 2.83L4 21.41c.39.39.9.59 1.41.59.51 0 1.02-.2 1.41-.59l7.78-7.78 2.81-2.81c.8-.78.8-2.07 0-2.86zM5.41 20L4 18.59l7.72-7.72 1.47 1.35L5.41 20z\"/>\n",
              "  </svg>\n",
              "      </button>\n",
              "      \n",
              "  <style>\n",
              "    .colab-df-container {\n",
              "      display:flex;\n",
              "      flex-wrap:wrap;\n",
              "      gap: 12px;\n",
              "    }\n",
              "\n",
              "    .colab-df-convert {\n",
              "      background-color: #E8F0FE;\n",
              "      border: none;\n",
              "      border-radius: 50%;\n",
              "      cursor: pointer;\n",
              "      display: none;\n",
              "      fill: #1967D2;\n",
              "      height: 32px;\n",
              "      padding: 0 0 0 0;\n",
              "      width: 32px;\n",
              "    }\n",
              "\n",
              "    .colab-df-convert:hover {\n",
              "      background-color: #E2EBFA;\n",
              "      box-shadow: 0px 1px 2px rgba(60, 64, 67, 0.3), 0px 1px 3px 1px rgba(60, 64, 67, 0.15);\n",
              "      fill: #174EA6;\n",
              "    }\n",
              "\n",
              "    [theme=dark] .colab-df-convert {\n",
              "      background-color: #3B4455;\n",
              "      fill: #D2E3FC;\n",
              "    }\n",
              "\n",
              "    [theme=dark] .colab-df-convert:hover {\n",
              "      background-color: #434B5C;\n",
              "      box-shadow: 0px 1px 3px 1px rgba(0, 0, 0, 0.15);\n",
              "      filter: drop-shadow(0px 1px 2px rgba(0, 0, 0, 0.3));\n",
              "      fill: #FFFFFF;\n",
              "    }\n",
              "  </style>\n",
              "\n",
              "      <script>\n",
              "        const buttonEl =\n",
              "          document.querySelector('#df-46daf5c0-d76d-4bc1-9322-1b1b5ccaee40 button.colab-df-convert');\n",
              "        buttonEl.style.display =\n",
              "          google.colab.kernel.accessAllowed ? 'block' : 'none';\n",
              "\n",
              "        async function convertToInteractive(key) {\n",
              "          const element = document.querySelector('#df-46daf5c0-d76d-4bc1-9322-1b1b5ccaee40');\n",
              "          const dataTable =\n",
              "            await google.colab.kernel.invokeFunction('convertToInteractive',\n",
              "                                                     [key], {});\n",
              "          if (!dataTable) return;\n",
              "\n",
              "          const docLinkHtml = 'Like what you see? Visit the ' +\n",
              "            '<a target=\"_blank\" href=https://colab.research.google.com/notebooks/data_table.ipynb>data table notebook</a>'\n",
              "            + ' to learn more about interactive tables.';\n",
              "          element.innerHTML = '';\n",
              "          dataTable['output_type'] = 'display_data';\n",
              "          await google.colab.output.renderOutput(dataTable, element);\n",
              "          const docLink = document.createElement('div');\n",
              "          docLink.innerHTML = docLinkHtml;\n",
              "          element.appendChild(docLink);\n",
              "        }\n",
              "      </script>\n",
              "    </div>\n",
              "  </div>\n",
              "  "
            ]
          },
          "metadata": {},
          "execution_count": 5
        }
      ]
    },
    {
      "cell_type": "markdown",
      "source": [
        "**Part c**"
      ],
      "metadata": {
        "id": "j_f2_blz_CnT"
      }
    },
    {
      "cell_type": "code",
      "source": [
        "E_x = np.sum([ele[0]*ele[1] for ele in PMF])\n",
        "E_x"
      ],
      "metadata": {
        "colab": {
          "base_uri": "https://localhost:8080/"
        },
        "id": "F-weYQIG7gcD",
        "outputId": "a362762a-4023-48d9-8d62-dc195985c6d1"
      },
      "execution_count": null,
      "outputs": [
        {
          "output_type": "execute_result",
          "data": {
            "text/plain": [
              "4.472222222222222"
            ]
          },
          "metadata": {},
          "execution_count": 6
        }
      ]
    },
    {
      "cell_type": "markdown",
      "source": [
        "**Part d**"
      ],
      "metadata": {
        "id": "zlNn3t6P_JYC"
      }
    },
    {
      "cell_type": "code",
      "source": [
        "data = {'1':PMF[0][1], '2':PMF[1][1], '3':PMF[2][1],'4':PMF[3][1],'5':PMF[4][1],'6':PMF[5][1]}\n",
        "courses = list(data.keys())\n",
        "values = list(data.values())\n",
        "  \n",
        "fig = plt.figure(figsize = (14, 8))\n",
        " \n",
        "plt.bar(courses, values, color ='maroon',\n",
        "        width = 0.4)\n",
        " \n",
        "plt.xlabel(\"X\")\n",
        "plt.ylabel(\"Probability\")\n",
        "plt.title(\"PMF\")\n",
        "plt.show()"
      ],
      "metadata": {
        "colab": {
          "base_uri": "https://localhost:8080/",
          "height": 513
        },
        "id": "jnYlvjJj5As-",
        "outputId": "95c47cae-9a2f-426f-dbbc-5839a6196992"
      },
      "execution_count": null,
      "outputs": [
        {
          "output_type": "display_data",
          "data": {
            "text/plain": [
              "<Figure size 1008x576 with 1 Axes>"
            ],
            "image/png": "[encoded data removed]"
          },
          "metadata": {
            "needs_background": "light"
          }
        }
      ]
    },
    {
      "cell_type": "code",
      "source": [
        "data = {'1':CDF[0][1], '2':CDF[1][1], '3':CDF[2][1],'4':CDF[3][1],'5':CDF[4][1],'6':CDF[5][1]}\n",
        "courses = list(data.keys())\n",
        "values = list(data.values())\n",
        "  \n",
        "fig = plt.figure(figsize = (14, 8))\n",
        " \n",
        "plt.bar(courses, values, color ='maroon',\n",
        "        width = 0.4)\n",
        " \n",
        "plt.xlabel(\"X\")\n",
        "plt.ylabel(\"Probability\")\n",
        "plt.title(\"CDF\")\n",
        "plt.show()"
      ],
      "metadata": {
        "colab": {
          "base_uri": "https://localhost:8080/",
          "height": 513
        },
        "id": "ypVBcFNw5Aq4",
        "outputId": "7defbaaa-16f3-48f6-f71d-594be5d9c26d"
      },
      "execution_count": null,
      "outputs": [
        {
          "output_type": "display_data",
          "data": {
            "text/plain": [
              "<Figure size 1008x576 with 1 Axes>"
            ],
            "image/png": "[encoded data removed]"
          },
          "metadata": {
            "needs_background": "light"
          }
        }
      ]
    },
    {
      "cell_type": "markdown",
      "source": [
        "**Part e**"
      ],
      "metadata": {
        "id": "mp79d_wh5-9R"
      }
    },
    {
      "cell_type": "code",
      "source": [
        "data = {'0':CDF[0][1],'1':CDF[0][1], '2':CDF[1][1], '3':CDF[2][1],'4':CDF[3][1],'5':CDF[4][1],'6':CDF[5][1]}\n",
        "courses = list(data.keys())\n",
        "values = list(data.values())\n",
        "\n",
        "fig = plt.figure(figsize = (14, 8))\n",
        "plt.step(courses, values, label='pre (default)')\n",
        "\n",
        "plt.grid(axis='x', color='0.95')\n",
        "plt.title('CDF')\n",
        "plt.xlabel(\"X\")\n",
        "plt.ylabel(\"Probability\")\n",
        "plt.show()"
      ],
      "metadata": {
        "colab": {
          "base_uri": "https://localhost:8080/",
          "height": 513
        },
        "id": "msCRy_SQ5Aox",
        "outputId": "c6b74cdc-dcfe-40ea-8eba-105e291a33ab"
      },
      "execution_count": null,
      "outputs": [
        {
          "output_type": "display_data",
          "data": {
            "text/plain": [
              "<Figure size 1008x576 with 1 Axes>"
            ],
            "image/png": "[encoded data removed]"
          },
          "metadata": {
            "needs_background": "light"
          }
        }
      ]
    },
    {
      "cell_type": "markdown",
      "source": [
        "**Part f**"
      ],
      "metadata": {
        "id": "s2Ka_pYD6JXP"
      }
    },
    {
      "cell_type": "code",
      "source": [
        "random_nums = np.random.random(size=1000)"
      ],
      "metadata": {
        "id": "OTbqb_aWym1M"
      },
      "execution_count": null,
      "outputs": []
    },
    {
      "cell_type": "code",
      "source": [
        "counter1 = 0\n",
        "counter2 = 0\n",
        "counter3 = 0\n",
        "counter4 = 0\n",
        "counter5 = 0\n",
        "counter6 = 0\n",
        "\n",
        "temp = dc(random_nums)\n",
        "\n",
        "for rand in random_nums:\n",
        "  if rand <= CDF[0][1]:\n",
        "    counter1 += 1\n",
        "  elif rand <= CDF[1][1]:\n",
        "    counter2 += 1\n",
        "  elif rand <= CDF[2][1]:\n",
        "    counter3 += 1\n",
        "  elif rand <= CDF[3][1]:\n",
        "    counter4 += 1\n",
        "  elif rand <= CDF[4][1]:\n",
        "    counter5 += 1\n",
        "  else:\n",
        "    counter6 += 1\n",
        "\n",
        "for i in range(len(temp)):\n",
        "  if temp[i] <= CDF[0][1]:\n",
        "    temp[i] = dc(1)\n",
        "  elif temp[i]  <= CDF[1][1]:\n",
        "    temp[i] = dc(2)\n",
        "  elif temp[i] <= CDF[2][1]:\n",
        "    temp[i] = dc(3)\n",
        "  elif temp[i] <= CDF[3][1]:\n",
        "    temp[i] = dc(4)\n",
        "  elif temp[i] <= CDF[4][1]:\n",
        "    temp[i] = dc(5)\n",
        "  else:\n",
        "    temp[i] = dc(6)\n"
      ],
      "metadata": {
        "id": "Vj35YJO5ymzQ"
      },
      "execution_count": null,
      "outputs": []
    },
    {
      "cell_type": "code",
      "source": [
        "count = [counter1, counter2, counter3, counter4, counter5, counter6]\n",
        "count"
      ],
      "metadata": {
        "colab": {
          "base_uri": "https://localhost:8080/"
        },
        "id": "qN_zygt6_DS4",
        "outputId": "1b3530df-e2b9-4858-8973-2c67271d3971"
      },
      "execution_count": null,
      "outputs": [
        {
          "output_type": "execute_result",
          "data": {
            "text/plain": [
              "[26, 76, 163, 188, 252, 295]"
            ]
          },
          "metadata": {},
          "execution_count": 12
        }
      ]
    },
    {
      "cell_type": "markdown",
      "source": [
        "**(i)**"
      ],
      "metadata": {
        "id": "wOJiG7C06Ox6"
      }
    },
    {
      "cell_type": "code",
      "source": [
        "fig = plt.figure(figsize = (14, 8))\n",
        "\n",
        "n, bins, patches = plt.hist(temp, 6, density=False, facecolor='g')\n",
        "\n",
        "plt.title('histogram of the samples')\n",
        "plt.xlabel(\"X\")\n",
        "plt.ylabel(\"Frequency\")\n",
        "plt.show()"
      ],
      "metadata": {
        "colab": {
          "base_uri": "https://localhost:8080/",
          "height": 513
        },
        "id": "k7O73zw_zrEF",
        "outputId": "f23b8276-c97a-4118-b6fd-3f18187c702a"
      },
      "execution_count": null,
      "outputs": [
        {
          "output_type": "display_data",
          "data": {
            "text/plain": [
              "<Figure size 1008x576 with 1 Axes>"
            ],
            "image/png": "[encoded data removed]"
          },
          "metadata": {
            "needs_background": "light"
          }
        }
      ]
    },
    {
      "cell_type": "markdown",
      "source": [
        "**ii**"
      ],
      "metadata": {
        "id": "J7wObGvH6QlC"
      }
    },
    {
      "cell_type": "code",
      "source": [
        "np.average(temp)"
      ],
      "metadata": {
        "colab": {
          "base_uri": "https://localhost:8080/"
        },
        "id": "em7RwoC8zrCJ",
        "outputId": "75302d74-3143-48d7-cecc-3da267aa7753"
      },
      "execution_count": null,
      "outputs": [
        {
          "output_type": "execute_result",
          "data": {
            "text/plain": [
              "4.449"
            ]
          },
          "metadata": {},
          "execution_count": 14
        }
      ]
    },
    {
      "cell_type": "markdown",
      "source": [
        "**iii**"
      ],
      "metadata": {
        "id": "encWbYgc6SNi"
      }
    },
    {
      "cell_type": "code",
      "source": [
        "np.std(temp)"
      ],
      "metadata": {
        "colab": {
          "base_uri": "https://localhost:8080/"
        },
        "id": "enyU5_Gfzq-S",
        "outputId": "c571b280-7350-4dee-b0e0-b424a8beb185"
      },
      "execution_count": null,
      "outputs": [
        {
          "output_type": "execute_result",
          "data": {
            "text/plain": [
              "1.3897478188506"
            ]
          },
          "metadata": {},
          "execution_count": 15
        }
      ]
    },
    {
      "cell_type": "markdown",
      "source": [
        "**iv**"
      ],
      "metadata": {
        "id": "8DFHFJr-6Tn6"
      }
    },
    {
      "cell_type": "code",
      "source": [
        "st.t.interval(alpha=0.95, df=len(temp)-1, loc=np.mean(temp))"
      ],
      "metadata": {
        "colab": {
          "base_uri": "https://localhost:8080/"
        },
        "id": "dz7Yb7Zz2xLr",
        "outputId": "4d5b272e-99dd-49d3-81b0-5bc51775fb71"
      },
      "execution_count": null,
      "outputs": [
        {
          "output_type": "execute_result",
          "data": {
            "text/plain": [
              "(2.486658538866551, 6.411341461133448)"
            ]
          },
          "metadata": {},
          "execution_count": 16
        }
      ]
    },
    {
      "cell_type": "markdown",
      "source": [
        "#2.2 Continuous Process Generator\n",
        "\n",
        "**Part a**"
      ],
      "metadata": {
        "id": "mF-DILeBiliK"
      }
    },
    {
      "cell_type": "markdown",
      "source": [
        "$$\n",
        "E(y) = \\int_∞^∞ y(\\frac{9-y}{18}) \\;dy = \\int_∞^3 y(\\frac{9-y}{18}) \\;dy + \\int_3^9 y(\\frac{9-y}{18}) \\;dy + \\int_9^∞ y(\\frac{9-y}{18}) \\;dy\n",
        "$$\n",
        "\n",
        "$$\n",
        "E(y) = 0 + \\int_3^9 y(\\frac{9-y}{18}) \\;dy + 0 = 5\n",
        "$$"
      ],
      "metadata": {
        "id": "0Gt7FW0-FZYb"
      }
    },
    {
      "cell_type": "markdown",
      "source": [
        "**Part b**"
      ],
      "metadata": {
        "id": "EjhKHDa6RLQQ"
      }
    },
    {
      "cell_type": "code",
      "execution_count": null,
      "metadata": {
        "id": "u4ZWr2ESvur7",
        "colab": {
          "base_uri": "https://localhost:8080/",
          "height": 513
        },
        "outputId": "8e4b6392-8fcd-4440-a6a9-9e1b503645e4"
      },
      "outputs": [
        {
          "output_type": "display_data",
          "data": {
            "text/plain": [
              "<Figure size 1008x576 with 1 Axes>"
            ],
            "image/png": "[encoded data removed]"
          },
          "metadata": {
            "needs_background": "light"
          }
        }
      ],
      "source": [
        "\n",
        "fig = plt.figure(figsize = (14, 8))\n",
        "plt.title('PDF')\n",
        "plt.xlabel('Y')\n",
        "plt.ylabel('Probability ')\n",
        "\n",
        "y = np.linspace(3, 9, 100)\n",
        "f_y = (9-y)/18\n",
        "\n",
        "a = np.linspace(0, 3, 100)\n",
        "b = 0 * a \n",
        "\n",
        "c = np.linspace(9, 10, 100)\n",
        "d = 0 * c\n",
        "\n",
        "plt.plot(y, f_y, 'b', alpha = 0.8)\n",
        "plt.plot(a, b, 'b', alpha = 0.8)\n",
        "plt.plot(c, d, 'b', alpha = 0.8)\n",
        "\n",
        "plt.show()"
      ]
    },
    {
      "cell_type": "markdown",
      "source": [
        "**Part c**\n",
        "\n",
        "\n",
        "$$\n",
        "CDF = \\int_{-\\infty}^{+\\infty} (\\frac{9-y}{18}) \\;dy = \\frac{18y-y^2}{36} + c\\\n",
        "\\forall (c = 0, 3 \\leq y \\leq 9)\n",
        "$$\n",
        "$$\n",
        "CDF = 0\\\n",
        "\\forall y \\leq 3\n",
        "$$\n",
        "$$\n",
        "CDF = 1\\\n",
        "\\forall y \\geq 9\n",
        "$$"
      ],
      "metadata": {
        "id": "phYzu7d2RO-k"
      }
    },
    {
      "cell_type": "markdown",
      "source": [
        "**Part d**"
      ],
      "metadata": {
        "id": "08VGQfVK5vwl"
      }
    },
    {
      "cell_type": "code",
      "source": [
        "fig = plt.figure(figsize = (14, 8))\n",
        "plt.title('CDF')\n",
        "plt.xlabel('Y')\n",
        "plt.ylabel('Probability ')\n",
        "\n",
        "y = np.linspace(3, 9, 100)\n",
        "f_y = (y/2) - (y**2/36) - (1.25)\n",
        "\n",
        "a = np.linspace(0, 3, 100)\n",
        "b = 0 * a \n",
        "\n",
        "c = np.linspace(9, 10, 100)\n",
        "d = 1 + c*0\n",
        "\n",
        "plt.plot(y, f_y, 'b', alpha = 0.8)\n",
        "plt.plot(a, b, 'b', alpha = 0.8)\n",
        "plt.plot(c, d, 'b', alpha = 0.8)\n",
        "\n",
        "plt.show()"
      ],
      "metadata": {
        "colab": {
          "base_uri": "https://localhost:8080/",
          "height": 513
        },
        "id": "t5-MGkwXROzG",
        "outputId": "1692787e-dbfd-4c95-9a61-34cdbd76f173"
      },
      "execution_count": null,
      "outputs": [
        {
          "output_type": "display_data",
          "data": {
            "text/plain": [
              "<Figure size 1008x576 with 1 Axes>"
            ],
            "image/png": "[encoded data removed]"
          },
          "metadata": {
            "needs_background": "light"
          }
        }
      ]
    },
    {
      "cell_type": "markdown",
      "source": [
        "**Part e**"
      ],
      "metadata": {
        "id": "ttt6bfl56rKR"
      }
    },
    {
      "cell_type": "code",
      "source": [
        "random_nums = np.random.random(size=1000)"
      ],
      "metadata": {
        "id": "hBR_jKvlROw6"
      },
      "execution_count": null,
      "outputs": []
    },
    {
      "cell_type": "markdown",
      "source": [
        "(i)"
      ],
      "metadata": {
        "id": "Sy_nQJhpC-H1"
      }
    },
    {
      "cell_type": "code",
      "source": [
        "inv = []\n",
        "for ele in random_nums:\n",
        "  coeff = [-1/36,0.5,-1.25-ele]\n",
        "  solution = np.roots(coeff)\n",
        "  for sol in solution:\n",
        "    if sol > 9:\n",
        "      continue\n",
        "    else: \n",
        "      inv.append(sol)\n",
        "len(inv)"
      ],
      "metadata": {
        "colab": {
          "base_uri": "https://localhost:8080/"
        },
        "id": "b9bv4ai8zHVI",
        "outputId": "d164d91d-fb00-4f1e-d941-18afe388c163"
      },
      "execution_count": null,
      "outputs": [
        {
          "output_type": "execute_result",
          "data": {
            "text/plain": [
              "1000"
            ]
          },
          "metadata": {},
          "execution_count": 20
        }
      ]
    },
    {
      "cell_type": "code",
      "source": [
        "fig = plt.figure(figsize = (14, 8))\n",
        "n, bins, patches = plt.hist(inv, 50, density=False, facecolor='g')\n",
        "plt.xlim([0,10])\n",
        "plt.title('histogram of the samples')\n",
        "plt.xlabel(\"Y\")\n",
        "plt.ylabel(\"Frequency\")\n",
        "plt.show()"
      ],
      "metadata": {
        "colab": {
          "base_uri": "https://localhost:8080/",
          "height": 513
        },
        "id": "u67NNEQ48ayK",
        "outputId": "34d7a7e1-97af-4bee-ce4a-3c73510252a3"
      },
      "execution_count": null,
      "outputs": [
        {
          "output_type": "display_data",
          "data": {
            "text/plain": [
              "<Figure size 1008x576 with 1 Axes>"
            ],
            "image/png": "[encoded data removed]"
          },
          "metadata": {
            "needs_background": "light"
          }
        }
      ]
    },
    {
      "cell_type": "markdown",
      "source": [
        "**(ii)**"
      ],
      "metadata": {
        "id": "AP1s64-9DDpT"
      }
    },
    {
      "cell_type": "code",
      "source": [
        "np.average(inv)"
      ],
      "metadata": {
        "colab": {
          "base_uri": "https://localhost:8080/"
        },
        "id": "mnVug2FCKRFE",
        "outputId": "fbe542cb-3932-4cb6-b8e3-65a64bc1940c"
      },
      "execution_count": null,
      "outputs": [
        {
          "output_type": "execute_result",
          "data": {
            "text/plain": [
              "5.005191141441614"
            ]
          },
          "metadata": {},
          "execution_count": 22
        }
      ]
    },
    {
      "cell_type": "markdown",
      "source": [
        "**(iii)**"
      ],
      "metadata": {
        "id": "4JFBdsknDIkC"
      }
    },
    {
      "cell_type": "code",
      "source": [
        "np.std(inv)"
      ],
      "metadata": {
        "colab": {
          "base_uri": "https://localhost:8080/"
        },
        "id": "kiOYq8dRLfd8",
        "outputId": "539076d0-1612-4199-b11b-562b39e84fd8"
      },
      "execution_count": null,
      "outputs": [
        {
          "output_type": "execute_result",
          "data": {
            "text/plain": [
              "1.3969207763554274"
            ]
          },
          "metadata": {},
          "execution_count": 23
        }
      ]
    },
    {
      "cell_type": "markdown",
      "source": [
        "(iv)"
      ],
      "metadata": {
        "id": "Al04qDqnDLyV"
      }
    },
    {
      "cell_type": "code",
      "source": [
        "st.t.interval(alpha=0.95, df=len(inv)-1, loc=np.mean(inv))"
      ],
      "metadata": {
        "colab": {
          "base_uri": "https://localhost:8080/"
        },
        "id": "VnIkbskgLjvc",
        "outputId": "54eb1fde-5110-4b1e-a55c-3d03e8eca882"
      },
      "execution_count": null,
      "outputs": [
        {
          "output_type": "execute_result",
          "data": {
            "text/plain": [
              "(3.0428496803081653, 6.967532602575062)"
            ]
          },
          "metadata": {},
          "execution_count": 24
        }
      ]
    },
    {
      "cell_type": "markdown",
      "source": [
        "#2.3 Arrivals at Caf´e Java\n",
        "\n",
        "\n",
        "**Part a**\n"
      ],
      "metadata": {
        "id": "4MYBzk1tf2NL"
      }
    },
    {
      "cell_type": "code",
      "source": [
        "random_nums = np.random.random(size=1000)"
      ],
      "metadata": {
        "id": "A1UlfhIQgHoB"
      },
      "execution_count": null,
      "outputs": []
    },
    {
      "cell_type": "code",
      "source": [
        "L = 2\n",
        "sol = -np.log(1-random_nums) / L"
      ],
      "metadata": {
        "id": "OeSV37jcgVBz"
      },
      "execution_count": null,
      "outputs": []
    },
    {
      "cell_type": "code",
      "source": [
        "sol[0:10]"
      ],
      "metadata": {
        "colab": {
          "base_uri": "https://localhost:8080/"
        },
        "id": "JPaiiJuWqhHy",
        "outputId": "fe13451c-7918-43a0-cc90-3ee0f971109d"
      },
      "execution_count": null,
      "outputs": [
        {
          "output_type": "execute_result",
          "data": {
            "text/plain": [
              "array([0.17115812, 0.21275443, 0.06764402, 0.97525345, 0.33354332,\n",
              "       0.54790542, 0.07344255, 0.09972535, 0.21622447, 0.21540641])"
            ]
          },
          "metadata": {},
          "execution_count": 27
        }
      ]
    },
    {
      "cell_type": "code",
      "source": [
        "fig = plt.figure(figsize = (14, 8))\n",
        "n, bins, patches = plt.hist(sol, 50, density=False, facecolor='g')\n",
        "plt.title('histogram of the samples')\n",
        "plt.xlabel(\"Z\")\n",
        "plt.ylabel(\"Frequency\")\n",
        "plt.show()"
      ],
      "metadata": {
        "colab": {
          "base_uri": "https://localhost:8080/",
          "height": 513
        },
        "id": "6Y1HJtyPkWbv",
        "outputId": "d4d85fed-3ffe-4f10-d50b-ecbb91cb662e"
      },
      "execution_count": null,
      "outputs": [
        {
          "output_type": "display_data",
          "data": {
            "text/plain": [
              "<Figure size 1008x576 with 1 Axes>"
            ],
            "image/png": "[encoded data removed]"
          },
          "metadata": {
            "needs_background": "light"
          }
        }
      ]
    },
    {
      "cell_type": "markdown",
      "source": [
        "**Part b**"
      ],
      "metadata": {
        "id": "9f2IfeOyDx6T"
      }
    },
    {
      "cell_type": "code",
      "source": [
        "t = [sol[0]]\n",
        "for i in range(len(sol)):\n",
        "  t.append(t[-1]+sol[i+1])\n",
        "  if i == 998:\n",
        "    break"
      ],
      "metadata": {
        "id": "LRMYpBq9kwAw"
      },
      "execution_count": null,
      "outputs": []
    },
    {
      "cell_type": "code",
      "source": [
        "t[0:10]"
      ],
      "metadata": {
        "colab": {
          "base_uri": "https://localhost:8080/"
        },
        "id": "JNiFmp_kuHIA",
        "outputId": "0e600308-8c59-43ce-ada9-f8319ecdbc3a"
      },
      "execution_count": null,
      "outputs": [
        {
          "output_type": "execute_result",
          "data": {
            "text/plain": [
              "[0.17115812215472054,\n",
              " 0.3839125560098434,\n",
              " 0.4515565767839297,\n",
              " 1.426810026226484,\n",
              " 1.7603533499742068,\n",
              " 2.3082587749597794,\n",
              " 2.381701329385401,\n",
              " 2.481426683364871,\n",
              " 2.697651152191073,\n",
              " 2.913057560333289]"
            ]
          },
          "metadata": {},
          "execution_count": 30
        }
      ]
    },
    {
      "cell_type": "markdown",
      "source": [
        "**Part c**"
      ],
      "metadata": {
        "id": "N-8OvEy6EDgR"
      }
    },
    {
      "cell_type": "code",
      "source": [
        "t_i = np.array(t)\n",
        "k = []\n",
        "for i in range(300):\n",
        "  k.append(np.count_nonzero(t_i <= i))\n"
      ],
      "metadata": {
        "id": "jTx5MHF8ulEr"
      },
      "execution_count": null,
      "outputs": []
    },
    {
      "cell_type": "code",
      "source": [
        "k_i = [0]\n",
        "for i in range(len(k)+1):\n",
        "  k_i.append(k[i+1]-k[i])\n",
        "  if i == 298:\n",
        "    break\n",
        "k_i.pop(0)"
      ],
      "metadata": {
        "colab": {
          "base_uri": "https://localhost:8080/"
        },
        "id": "CDB3ggTGxIBP",
        "outputId": "c53e7f31-bb45-4365-f2a0-0a6509073def"
      },
      "execution_count": null,
      "outputs": [
        {
          "output_type": "execute_result",
          "data": {
            "text/plain": [
              "0"
            ]
          },
          "metadata": {},
          "execution_count": 32
        }
      ]
    },
    {
      "cell_type": "code",
      "source": [
        "k_i[1:6]"
      ],
      "metadata": {
        "colab": {
          "base_uri": "https://localhost:8080/"
        },
        "id": "jCXI7A6hxN19",
        "outputId": "3e991eb1-e1f8-4d06-fe60-1e232734045c"
      },
      "execution_count": null,
      "outputs": [
        {
          "output_type": "execute_result",
          "data": {
            "text/plain": [
              "[2, 5, 3, 0, 0]"
            ]
          },
          "metadata": {},
          "execution_count": 33
        }
      ]
    },
    {
      "cell_type": "code",
      "source": [
        "fig = plt.figure(figsize = (14, 8))\n",
        "n, bins, patches = plt.hist(k_i,20, density=False, facecolor='g')\n",
        "plt.title('histogram of all k_i samples')\n",
        "plt.xlabel(\"k_i\")\n",
        "plt.ylabel(\"Frequency\")\n",
        "plt.show()"
      ],
      "metadata": {
        "colab": {
          "base_uri": "https://localhost:8080/",
          "height": 514
        },
        "id": "48wDMCMz2RYs",
        "outputId": "67da61cb-0d42-47e0-d164-8faaaad4503b"
      },
      "execution_count": null,
      "outputs": [
        {
          "output_type": "display_data",
          "data": {
            "text/plain": [
              "<Figure size 1008x576 with 1 Axes>"
            ],
            "image/png": "[encoded data removed]"
          },
          "metadata": {
            "needs_background": "light"
          }
        }
      ]
    },
    {
      "cell_type": "markdown",
      "source": [
        "**Part d**\n",
        "\n",
        "Poisson Distribution"
      ],
      "metadata": {
        "id": "5CLS7l9yFB-E"
      }
    },
    {
      "cell_type": "code",
      "source": [],
      "metadata": {
        "id": "DTQue4i2DdXv"
      },
      "execution_count": null,
      "outputs": []
    }
  ]
}