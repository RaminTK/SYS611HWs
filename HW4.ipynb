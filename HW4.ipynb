{
  "nbformat": 4,
  "nbformat_minor": 0,
  "metadata": {
    "colab": {
      "provenance": [],
      "authorship_tag": "ABX9TyPQemVFrd95+sRBDzMzKl08",
      "include_colab_link": true
    },
    "kernelspec": {
      "name": "python3",
      "display_name": "Python 3"
    },
    "language_info": {
      "name": "python"
    }
  },
  "cells": [
    {
      "cell_type": "markdown",
      "metadata": {
        "id": "view-in-github",
        "colab_type": "text"
      },
      "source": [
        "<a href=\"https://colab.research.google.com/github/RaminTKhameneh/SYS611HWs/blob/main/HW4.ipynb\" target=\"_parent\"><img src=\"https://colab.research.google.com/assets/colab-badge.svg\" alt=\"Open In Colab\"/></a>"
      ]
    },
    {
      "cell_type": "code",
      "source": [
        "import matplotlib.pyplot as plt"
      ],
      "metadata": {
        "id": "taPgCCXu_ydn"
      },
      "execution_count": null,
      "outputs": []
    },
    {
      "cell_type": "markdown",
      "source": [
        "Part c)"
      ],
      "metadata": {
        "id": "5h0uE1hVCiLO"
      }
    },
    {
      "cell_type": "code",
      "execution_count": null,
      "metadata": {
        "id": "csn6YxzTmNQ3"
      },
      "outputs": [],
      "source": [
        "N = 1600\n",
        "d_t = 0.2\n",
        "R_0 = 3\n",
        "G = 0.1\n",
        "B = R_0 * G"
      ]
    },
    {
      "cell_type": "code",
      "source": [
        "t = [i * d_t for i in range(180*5+1)]\n",
        "I_t = [1]\n",
        "R_t = [0]\n",
        "S_t = [N - I_t[-1]]"
      ],
      "metadata": {
        "id": "AC3Tc1kYoevT"
      },
      "execution_count": null,
      "outputs": []
    },
    {
      "cell_type": "code",
      "source": [
        "for i in range(180 * 5):\n",
        "  S_t.append(S_t[-1] + d_t * (-B * I_t[-1] * S_t[-1] / N))\n",
        "  I_t.append(I_t[-1] + d_t * (B * S_t[-2] * I_t[-1] / N - G * I_t[-1]))\n",
        "  R_t.append(R_t[-1] + d_t * (G * I_t[-2]))"
      ],
      "metadata": {
        "id": "m-qyIvcbwDd5"
      },
      "execution_count": null,
      "outputs": []
    },
    {
      "cell_type": "code",
      "source": [
        "plt.figure()\n",
        "figure = plt.figure(figsize =(10, 6))\n",
        "plt.plot()\n",
        "plt.plot(t, S_t, label=\"S\")\n",
        "plt.plot(t, I_t, label= \"I\")\n",
        "plt.plot(t, R_t, label= \"R\")\n",
        "plt.ylabel('Population')\n",
        "plt.xlabel('Time in days')\n",
        "plt.legend()\n",
        "plt.show()"
      ],
      "metadata": {
        "colab": {
          "base_uri": "https://localhost:8080/",
          "height": 406
        },
        "id": "AGuAx2prwGal",
        "outputId": "d40aa01d-074c-4ee6-cf14-c6b48b18c481"
      },
      "execution_count": null,
      "outputs": [
        {
          "output_type": "display_data",
          "data": {
            "text/plain": [
              "<Figure size 432x288 with 0 Axes>"
            ]
          },
          "metadata": {}
        },
        {
          "output_type": "display_data",
          "data": {
            "text/plain": [
              "<Figure size 720x432 with 1 Axes>"
            ],
            "image/png": "[encoded data removed]"
          },
          "metadata": {
            "needs_background": "light"
          }
        }
      ]
    },
    {
      "cell_type": "markdown",
      "source": [
        "Part d)"
      ],
      "metadata": {
        "id": "OLM1Az-oCmTo"
      }
    },
    {
      "cell_type": "code",
      "source": [
        "index = I_t.index(max(I_t))\n",
        "print('The max infection occurs in day ', t[index])\n",
        "print('The max infection Value is ', I_t [index],' cases')\n",
        "print('When number of recovered is ', R_t[index] , ' people and number of Susceptiple is ', S_t[index] , ' people')"
      ],
      "metadata": {
        "colab": {
          "base_uri": "https://localhost:8080/"
        },
        "id": "l7XEJUcm76dt",
        "outputId": "a091a215-cb73-4ae4-8327-643ad0092d58"
      },
      "execution_count": null,
      "outputs": [
        {
          "output_type": "stream",
          "name": "stdout",
          "text": [
            "The max infection occurs in day  41.2\n",
            "The max infection Value is  484.7835592825036  cases\n",
            "When number of recovered is  583.3003865183706  people and number of Susceptiple is  531.9160541991292  people\n"
          ]
        }
      ]
    },
    {
      "cell_type": "markdown",
      "source": [
        "Part e)"
      ],
      "metadata": {
        "id": "AdOp1_VdCogd"
      }
    },
    {
      "cell_type": "code",
      "source": [
        "0.02 * R_t[-1]"
      ],
      "metadata": {
        "colab": {
          "base_uri": "https://localhost:8080/"
        },
        "id": "q3pw8gAZ8z-v",
        "outputId": "ad5e8b6b-2bb4-48a2-c6d3-4ff18346dc98"
      },
      "execution_count": null,
      "outputs": [
        {
          "output_type": "execute_result",
          "data": {
            "text/plain": [
              "30.13532222610977"
            ]
          },
          "metadata": {},
          "execution_count": 252
        }
      ]
    },
    {
      "cell_type": "markdown",
      "source": [
        "Part f)"
      ],
      "metadata": {
        "id": "VuWmC_3ODLWw"
      }
    },
    {
      "cell_type": "markdown",
      "source": [
        "(i)"
      ],
      "metadata": {
        "id": "hZOp4f6QDOb6"
      }
    },
    {
      "cell_type": "code",
      "source": [
        "B_new = 0.2\n",
        "R_0 = B_new / G\n",
        "R_0"
      ],
      "metadata": {
        "colab": {
          "base_uri": "https://localhost:8080/"
        },
        "id": "M9S4BtovKtrf",
        "outputId": "fa88c907-d8f4-4d4a-804c-a15a26a84da5"
      },
      "execution_count": null,
      "outputs": [
        {
          "output_type": "execute_result",
          "data": {
            "text/plain": [
              "2.0"
            ]
          },
          "metadata": {},
          "execution_count": 253
        }
      ]
    },
    {
      "cell_type": "markdown",
      "source": [
        "(ii)"
      ],
      "metadata": {
        "id": "GrF1to8wMFDN"
      }
    },
    {
      "cell_type": "code",
      "source": [
        "t.index(30)\n",
        "del R_t[t.index(30) : len(t) + 1]\n",
        "del S_t[t.index(30) : len(t) + 1]\n",
        "del I_t[t.index(30) : len(t) + 1]"
      ],
      "metadata": {
        "id": "V4vtCRxv9W_q"
      },
      "execution_count": null,
      "outputs": []
    },
    {
      "cell_type": "code",
      "source": [
        "for i in range(150 * 5 + 1):\n",
        "  S_t.append(S_t[-1] + d_t * (-B_new * I_t[-1] * S_t[-1] / N))\n",
        "  I_t.append(I_t[-1] + d_t * (B_new * S_t[-2] * I_t[-1] / N - G * I_t[-1]))\n",
        "  R_t.append(R_t[-1] + d_t * (G * I_t[-2]))"
      ],
      "metadata": {
        "id": "CwRxzb3bFSH-"
      },
      "execution_count": null,
      "outputs": []
    },
    {
      "cell_type": "code",
      "source": [
        "plt.figure()\n",
        "figure = plt.figure(figsize =(10, 6))\n",
        "plt.plot()\n",
        "plt.plot(t, S_t, label=\"S\")\n",
        "plt.plot(t, I_t, label= \"I\")\n",
        "plt.plot(t, R_t, label= \"R\")\n",
        "plt.ylabel('Population')\n",
        "plt.xlabel('Time in days')\n",
        "plt.legend()\n",
        "plt.show()"
      ],
      "metadata": {
        "colab": {
          "base_uri": "https://localhost:8080/",
          "height": 406
        },
        "id": "1v2RA6-DGw7D",
        "outputId": "79a74bf4-1bca-4b12-e953-eba18284182b"
      },
      "execution_count": null,
      "outputs": [
        {
          "output_type": "display_data",
          "data": {
            "text/plain": [
              "<Figure size 432x288 with 0 Axes>"
            ]
          },
          "metadata": {}
        },
        {
          "output_type": "display_data",
          "data": {
            "text/plain": [
              "<Figure size 720x432 with 1 Axes>"
            ],
            "image/png": "[encoded data removed]"
          },
          "metadata": {
            "needs_background": "light"
          }
        }
      ]
    },
    {
      "cell_type": "markdown",
      "source": [
        "(iii)"
      ],
      "metadata": {
        "id": "2LCWVnC4WYFu"
      }
    },
    {
      "cell_type": "code",
      "source": [
        "index = I_t.index(max(I_t))\n",
        "print('The max infection occurs in day ', t[index])\n",
        "print('The max infection Value is ', I_t [index],' cases')\n",
        "print('When number of recovered is ', R_t[index] , ' people and number of Susceptiple is ', S_t[index] , ' people')"
      ],
      "metadata": {
        "colab": {
          "base_uri": "https://localhost:8080/"
        },
        "id": "4N7DZMBrG2jO",
        "outputId": "6c1d71fe-80b4-40a3-ac8a-44dd685354ef"
      },
      "execution_count": null,
      "outputs": [
        {
          "output_type": "stream",
          "name": "stdout",
          "text": [
            "The max infection occurs in day  41.800000000000004\n",
            "The max infection Value is  318.39549916905827  cases\n",
            "When number of recovered is  486.84876706836104  people and number of Susceptiple is  794.7557337625828  people\n"
          ]
        }
      ]
    },
    {
      "cell_type": "markdown",
      "source": [
        "(iv)"
      ],
      "metadata": {
        "id": "fNMreCKiWS-7"
      }
    },
    {
      "cell_type": "code",
      "source": [
        "0.02 * R_t[-1]"
      ],
      "metadata": {
        "colab": {
          "base_uri": "https://localhost:8080/"
        },
        "id": "PmXIiebQG_ok",
        "outputId": "f0c8c89d-47c5-4a4a-e445-e3508a29dffa"
      },
      "execution_count": null,
      "outputs": [
        {
          "output_type": "execute_result",
          "data": {
            "text/plain": [
              "26.404376147814244"
            ]
          },
          "metadata": {},
          "execution_count": 258
        }
      ]
    }
  ]
}